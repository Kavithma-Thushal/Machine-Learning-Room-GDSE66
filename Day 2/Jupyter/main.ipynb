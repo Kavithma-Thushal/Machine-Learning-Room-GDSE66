{
 "cells": [
  {
   "metadata": {},
   "cell_type": "markdown",
   "source": [
    "# Hello World!\n",
    "## Hello World!\n",
    "### Hello World!\n",
    "#### Hello World!\n",
    "##### Hello World!\n",
    "###### Hello World!\n",
    "\n",
    "*Hello World!*  \n",
    "**Hello World!**  \n",
    "***Hello World!***  \n",
    "\n",
    "- Hello World!\n",
    "- Hello World!\n",
    "- Hello World!\n",
    "\n",
    "1. Hello World!\n",
    "2. Hello World!\n",
    "3. Hello World!\n",
    "\n",
    "> Hello World!\n",
    "\n",
    "`Hello World!`\n",
    "\n",
    "| ID  | Name        | Address       | Salary  |\n",
    "| --- | ----------- | ------------- | ------- |\n",
    "| 1   | John Doe    | 123 Elm St.   | $50,000 |\n",
    "| 2   | Jane Smith  | 456 Oak Ave.  | $60,000 |\n",
    "| 3   | Emily Davis | 789 Maple Dr. | $55,000 |"
   ],
   "id": "5e96bd2c05b4949e"
  },
  {
   "metadata": {
    "ExecuteTime": {
     "end_time": "2025-02-01T16:38:26.854727Z",
     "start_time": "2025-02-01T16:38:26.850243Z"
    }
   },
   "cell_type": "code",
   "source": [
    "# Open the file and read the contents\n",
    "with open('file.txt', 'r') as file:\n",
    "    line = file.readline().strip()  # Read the first line\n",
    "\n",
    "# Split the line by commas\n",
    "data = line.split(',')\n",
    "\n",
    "# Assign the values to variables\n",
    "id = data[0]\n",
    "name = data[1]\n",
    "address = data[2]\n",
    "salary = data[3]\n",
    "\n",
    "# Print the values\n",
    "print(\"ID:\", id)\n",
    "print(\"Name:\", name)\n",
    "print(\"Address:\", address)\n",
    "print(\"Salary:\", salary)"
   ],
   "id": "7167ffeddbd39584",
   "outputs": [
    {
     "name": "stdout",
     "output_type": "stream",
     "text": [
      "ID: 1\n",
      "Name: Kavithma\n",
      "Address: Galle\n",
      "Salary: 90000\n"
     ]
    }
   ],
   "execution_count": 3
  }
 ],
 "metadata": {
  "kernelspec": {
   "display_name": "Python 3",
   "language": "python",
   "name": "python3"
  },
  "language_info": {
   "codemirror_mode": {
    "name": "ipython",
    "version": 2
   },
   "file_extension": ".py",
   "mimetype": "text/x-python",
   "name": "python",
   "nbconvert_exporter": "python",
   "pygments_lexer": "ipython2",
   "version": "2.7.6"
  }
 },
 "nbformat": 4,
 "nbformat_minor": 5
}
