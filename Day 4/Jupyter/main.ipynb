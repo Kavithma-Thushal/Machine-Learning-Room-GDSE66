{
 "cells": [
  {
   "metadata": {},
   "cell_type": "markdown",
   "source": "### 1.) Create a Python program to sort an array in descending order based on the values ?",
   "id": "2519dd7d0ed74389"
  },
  {
   "metadata": {
    "ExecuteTime": {
     "end_time": "2025-02-02T04:31:02.191165Z",
     "start_time": "2025-02-02T04:30:53.946051Z"
    }
   },
   "cell_type": "code",
   "source": [
    "def sort_descending(arr):\n",
    "    return sorted(arr, reverse=True)\n",
    "\n",
    "\n",
    "def validate_input(user_input):\n",
    "    try:\n",
    "        return list(map(int, user_input.split()))\n",
    "    except ValueError:\n",
    "        print(\"Invalid input! Please enter only numbers separated by spaces.\")\n",
    "        return None\n",
    "\n",
    "\n",
    "def main():\n",
    "    user_input = input(\"Enter numbers: \")\n",
    "    arr = validate_input(user_input)\n",
    "    if arr is None:\n",
    "        return\n",
    "    sorted_arr = sort_descending(arr)\n",
    "    print(\"Sorted array in descending order:\", sorted_arr)\n",
    "\n",
    "\n",
    "if __name__ == \"__main__\":\n",
    "    main()"
   ],
   "id": "37cf03f878c0cd5e",
   "outputs": [
    {
     "name": "stdout",
     "output_type": "stream",
     "text": [
      "Invalid input! Please enter only numbers separated by spaces.\n"
     ]
    }
   ],
   "execution_count": 7
  },
  {
   "metadata": {},
   "cell_type": "markdown",
   "source": "### Create a NumPy Array",
   "id": "e1b2921b439b3902"
  },
  {
   "metadata": {
    "ExecuteTime": {
     "end_time": "2025-02-02T04:43:44.353473Z",
     "start_time": "2025-02-02T04:43:43.340470Z"
    }
   },
   "cell_type": "code",
   "source": [
    "import numpy as np\n",
    "\n",
    "my_list = [3, 4, 5]\n",
    "print(my_list)\n",
    "my_array = np.array(my_list)\n",
    "print(my_array)"
   ],
   "id": "17faef3f852b277e",
   "outputs": [
    {
     "name": "stdout",
     "output_type": "stream",
     "text": [
      "[3, 4, 5]\n",
      "[3 4 5]\n"
     ]
    }
   ],
   "execution_count": 8
  },
  {
   "metadata": {
    "ExecuteTime": {
     "end_time": "2025-02-02T04:45:40.366293Z",
     "start_time": "2025-02-02T04:45:40.359085Z"
    }
   },
   "cell_type": "code",
   "source": [
    "zeros = np.zeros((3, 3))\n",
    "print(zeros)"
   ],
   "id": "915fb5ed4e567e5f",
   "outputs": [
    {
     "name": "stdout",
     "output_type": "stream",
     "text": [
      "[[0. 0. 0.]\n",
      " [0. 0. 0.]\n",
      " [0. 0. 0.]]\n"
     ]
    }
   ],
   "execution_count": 9
  },
  {
   "metadata": {
    "ExecuteTime": {
     "end_time": "2025-02-02T04:46:52.354789Z",
     "start_time": "2025-02-02T04:46:52.349776Z"
    }
   },
   "cell_type": "code",
   "source": [
    "ones = np.ones((2, 4))\n",
    "print(ones)"
   ],
   "id": "4fe6ae8d21ad4d9e",
   "outputs": [
    {
     "name": "stdout",
     "output_type": "stream",
     "text": [
      "[[1. 1. 1. 1.]\n",
      " [1. 1. 1. 1.]]\n"
     ]
    }
   ],
   "execution_count": 10
  },
  {
   "metadata": {
    "ExecuteTime": {
     "end_time": "2025-02-02T04:47:49.149094Z",
     "start_time": "2025-02-02T04:47:49.144571Z"
    }
   },
   "cell_type": "code",
   "source": [
    "arange = np.arange(10)\n",
    "print(arange)"
   ],
   "id": "7e00664948513aa5",
   "outputs": [
    {
     "name": "stdout",
     "output_type": "stream",
     "text": [
      "[0 1 2 3 4 5 6 7 8 9]\n"
     ]
    }
   ],
   "execution_count": 11
  },
  {
   "metadata": {
    "ExecuteTime": {
     "end_time": "2025-02-02T04:48:57.832603Z",
     "start_time": "2025-02-02T04:48:57.635364Z"
    }
   },
   "cell_type": "code",
   "source": [
    "randome = np.random.rand(5)\n",
    "print(randome)"
   ],
   "id": "dfb1f610f09ee08e",
   "outputs": [
    {
     "name": "stdout",
     "output_type": "stream",
     "text": [
      "[0.59607364 0.12205895 0.23469984 0.082727   0.0178926 ]\n"
     ]
    }
   ],
   "execution_count": 12
  },
  {
   "metadata": {},
   "cell_type": "markdown",
   "source": "## Array Operators",
   "id": "d8133301024f4a6c"
  },
  {
   "metadata": {},
   "cell_type": "markdown",
   "source": "### Arithmetic Operators",
   "id": "a38e74e33bb91c66"
  },
  {
   "metadata": {
    "ExecuteTime": {
     "end_time": "2025-02-02T04:53:55.608092Z",
     "start_time": "2025-02-02T04:53:55.602559Z"
    }
   },
   "cell_type": "code",
   "source": [
    "a = np.array([1, 2, 3])\n",
    "b = np.array([4, 5, 6])\n",
    "sum = a + b\n",
    "print(sum)"
   ],
   "id": "28af485a9d8750d7",
   "outputs": [
    {
     "name": "stdout",
     "output_type": "stream",
     "text": [
      "[5 7 9]\n"
     ]
    }
   ],
   "execution_count": 13
  },
  {
   "metadata": {
    "ExecuteTime": {
     "end_time": "2025-02-02T04:56:14.534436Z",
     "start_time": "2025-02-02T04:56:14.529892Z"
    }
   },
   "cell_type": "code",
   "source": [
    "difference = b - a\n",
    "product = a * b\n",
    "quotient = a / b\n",
    "print(difference)\n",
    "print(product)\n",
    "print(quotient)"
   ],
   "id": "8a3d7f933259ee7f",
   "outputs": [
    {
     "name": "stdout",
     "output_type": "stream",
     "text": [
      "[3 3 3]\n",
      "[ 4 10 18]\n",
      "[0.25 0.4  0.5 ]\n"
     ]
    }
   ],
   "execution_count": 15
  },
  {
   "metadata": {},
   "cell_type": "markdown",
   "source": "### Matrix Multiplication",
   "id": "5497230c28a58bd5"
  },
  {
   "metadata": {
    "ExecuteTime": {
     "end_time": "2025-02-02T04:58:41.133318Z",
     "start_time": "2025-02-02T04:58:41.128806Z"
    }
   },
   "cell_type": "code",
   "source": [
    "matrix1 = np.array([[1, 0], [0, 1]])\n",
    "matrix2 = np.array([[5, 6], [7, 8]])\n",
    "product = np.dot(matrix1, matrix2)\n",
    "print(product)"
   ],
   "id": "7e42f16e7fcc0015",
   "outputs": [
    {
     "name": "stdout",
     "output_type": "stream",
     "text": [
      "[[5 6]\n",
      " [7 8]]\n"
     ]
    }
   ],
   "execution_count": 17
  },
  {
   "metadata": {},
   "cell_type": "markdown",
   "source": "### Array Indexing and Slicing",
   "id": "13af15889d7be29d"
  },
  {
   "metadata": {
    "ExecuteTime": {
     "end_time": "2025-02-02T05:04:34.487506Z",
     "start_time": "2025-02-02T05:04:34.481505Z"
    }
   },
   "cell_type": "code",
   "source": [
    "arr = np.array([1, 2, 3, 4, 5])\n",
    "print(arr[0])"
   ],
   "id": "2afcfb8cce00d908",
   "outputs": [
    {
     "name": "stdout",
     "output_type": "stream",
     "text": [
      "1\n"
     ]
    }
   ],
   "execution_count": 22
  },
  {
   "metadata": {
    "ExecuteTime": {
     "end_time": "2025-02-02T05:04:38.290362Z",
     "start_time": "2025-02-02T05:04:38.287339Z"
    }
   },
   "cell_type": "code",
   "source": [
    "arr = np.array([1, 2, 3, 4, 5])\n",
    "print(arr[1:4])"
   ],
   "id": "348f8506ab336b29",
   "outputs": [
    {
     "name": "stdout",
     "output_type": "stream",
     "text": [
      "[2 3 4]\n"
     ]
    }
   ],
   "execution_count": 23
  },
  {
   "metadata": {},
   "cell_type": "code",
   "outputs": [],
   "execution_count": null,
   "source": "",
   "id": "ccdb3adb91405a50"
  },
  {
   "metadata": {},
   "cell_type": "markdown",
   "source": "### Array Manipulation",
   "id": "8c196620e2269aa0"
  },
  {
   "metadata": {
    "ExecuteTime": {
     "end_time": "2025-02-02T05:07:54.532731Z",
     "start_time": "2025-02-02T05:07:54.528220Z"
    }
   },
   "cell_type": "code",
   "source": [
    "arr = np.array([[1, 2, 3], [4, 5, 6]])\n",
    "reshaped = arr.reshape(2, 3)\n",
    "print(reshaped)"
   ],
   "id": "11c796a2d9b5662b",
   "outputs": [
    {
     "name": "stdout",
     "output_type": "stream",
     "text": [
      "[[1 2 3]\n",
      " [4 5 6]]\n"
     ]
    }
   ],
   "execution_count": 25
  },
  {
   "metadata": {},
   "cell_type": "markdown",
   "source": "### Joining Multiple Arrays",
   "id": "ad5e46709daf1c6e"
  },
  {
   "metadata": {
    "ExecuteTime": {
     "end_time": "2025-02-02T05:13:04.191299Z",
     "start_time": "2025-02-02T05:13:04.187599Z"
    }
   },
   "cell_type": "code",
   "source": [
    "array1 = np.array([1, 2, 3])\n",
    "array2 = np.array([4, 5, 6])\n",
    "concatenated = np.concatenate((array1, array2))\n",
    "print(concatenated)"
   ],
   "id": "2f2aff347ecf44b6",
   "outputs": [
    {
     "name": "stdout",
     "output_type": "stream",
     "text": [
      "[1 2 3 4 5 6]\n"
     ]
    }
   ],
   "execution_count": 28
  },
  {
   "metadata": {},
   "cell_type": "markdown",
   "source": "### Random Number Generation",
   "id": "3fc230a71ae425c8"
  },
  {
   "metadata": {
    "ExecuteTime": {
     "end_time": "2025-02-02T05:17:15.265810Z",
     "start_time": "2025-02-02T05:17:15.261261Z"
    }
   },
   "cell_type": "code",
   "source": [
    "randome = np.random.rand(5)\n",
    "print(randome)"
   ],
   "id": "87ea87e34adc20f3",
   "outputs": [
    {
     "name": "stdout",
     "output_type": "stream",
     "text": [
      "[0.01845787 0.9574303  0.0970232  0.1370399  0.9526201 ]\n"
     ]
    }
   ],
   "execution_count": 29
  },
  {
   "metadata": {
    "ExecuteTime": {
     "end_time": "2025-02-02T05:18:15.118547Z",
     "start_time": "2025-02-02T05:18:15.110981Z"
    }
   },
   "cell_type": "code",
   "source": [
    "randome = np.random.randint(1, 100, 5)\n",
    "print(randome)"
   ],
   "id": "fe3bdbcce4a080ad",
   "outputs": [
    {
     "name": "stdout",
     "output_type": "stream",
     "text": [
      "[74 18 79  7  7]\n"
     ]
    }
   ],
   "execution_count": 30
  },
  {
   "metadata": {},
   "cell_type": "code",
   "outputs": [],
   "execution_count": null,
   "source": "",
   "id": "6d0d8be5c751ca3c"
  }
 ],
 "metadata": {
  "kernelspec": {
   "display_name": "Python 3",
   "language": "python",
   "name": "python3"
  },
  "language_info": {
   "codemirror_mode": {
    "name": "ipython",
    "version": 2
   },
   "file_extension": ".py",
   "mimetype": "text/x-python",
   "name": "python",
   "nbconvert_exporter": "python",
   "pygments_lexer": "ipython2",
   "version": "2.7.6"
  }
 },
 "nbformat": 4,
 "nbformat_minor": 5
}
