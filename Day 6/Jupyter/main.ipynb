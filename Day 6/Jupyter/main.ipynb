{
 "cells": [
  {
   "metadata": {},
   "cell_type": "markdown",
   "source": "# Handling Missing Values",
   "id": "614f97bdbbd3549"
  },
  {
   "metadata": {},
   "cell_type": "markdown",
   "source": [
    "#### 1. use python dropna function\n",
    "#### 2. use python fillna function\n",
    "#### 3. use interpolate method\n",
    "#### 4. use python replace function"
   ],
   "id": "2a069aa1fee8fada"
  },
  {
   "metadata": {},
   "cell_type": "code",
   "outputs": [],
   "execution_count": null,
   "source": "",
   "id": "4102fbc7f861c862"
  }
 ],
 "metadata": {
  "kernelspec": {
   "display_name": "Python 3",
   "language": "python",
   "name": "python3"
  },
  "language_info": {
   "codemirror_mode": {
    "name": "ipython",
    "version": 2
   },
   "file_extension": ".py",
   "mimetype": "text/x-python",
   "name": "python",
   "nbconvert_exporter": "python",
   "pygments_lexer": "ipython2",
   "version": "2.7.6"
  }
 },
 "nbformat": 4,
 "nbformat_minor": 5
}
